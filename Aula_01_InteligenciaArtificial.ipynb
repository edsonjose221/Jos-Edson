{
  "nbformat": 4,
  "nbformat_minor": 0,
  "metadata": {
    "colab": {
      "name": "Aula-01-InteligenciaArtificial.ipynb",
      "provenance": [],
      "authorship_tag": "ABX9TyOonsCo9Z5nGeXFX12JYcLS",
      "include_colab_link": true
    },
    "kernelspec": {
      "name": "python3",
      "display_name": "Python 3"
    },
    "language_info": {
      "name": "python"
    }
  },
  "cells": [
    {
      "cell_type": "markdown",
      "metadata": {
        "id": "view-in-github",
        "colab_type": "text"
      },
      "source": [
        "<a href=\"https://colab.research.google.com/github/edsonjose221/Jos-Edson/blob/master/Aula_01_InteligenciaArtificial.ipynb\" target=\"_parent\"><img src=\"https://colab.research.google.com/assets/colab-badge.svg\" alt=\"Open In Colab\"/></a>"
      ]
    },
    {
      "cell_type": "code",
      "execution_count": null,
      "metadata": {
        "id": "jKV5AjyMCH2U"
      },
      "outputs": [],
      "source": [
        ""
      ]
    },
    {
      "cell_type": "markdown",
      "source": [
        "Primeiros Passos do Tratamento de Dados na Nuvem - Autor: José Edson de"
      ],
      "metadata": {
        "id": "E4q8G3tHCY4-"
      }
    },
    {
      "cell_type": "code",
      "source": [
        "a = 10\n",
        "b = 40\n",
        "c = a + b\n",
        "print('O valor total é ', c)\n"
      ],
      "metadata": {
        "colab": {
          "base_uri": "https://localhost:8080/"
        },
        "id": "fa4ciI_FCw8m",
        "outputId": "67e5b88c-094a-407d-9abd-34d02f93ea74"
      },
      "execution_count": 1,
      "outputs": [
        {
          "output_type": "stream",
          "name": "stdout",
          "text": [
            "O valor total é  50\n"
          ]
        }
      ]
    }
  ]
}